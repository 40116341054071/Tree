{
  "nbformat": 4,
  "nbformat_minor": 0,
  "metadata": {
    "colab": {
      "provenance": [],
      "mount_file_id": "1ceV8lHcc4WSDzXM7foABX1tobl-z-RAp",
      "authorship_tag": "ABX9TyP0r1tBozwf8AlGPS8uxkmE",
      "include_colab_link": true
    },
    "kernelspec": {
      "name": "python3",
      "display_name": "Python 3"
    },
    "language_info": {
      "name": "python"
    }
  },
  "cells": [
    {
      "cell_type": "markdown",
      "metadata": {
        "id": "view-in-github",
        "colab_type": "text"
      },
      "source": [
        "<a href=\"https://colab.research.google.com/github/40116341054071/Tree/blob/main/Tree.ipynb\" target=\"_parent\"><img src=\"https://colab.research.google.com/assets/colab-badge.svg\" alt=\"Open In Colab\"/></a>"
      ]
    },
    {
      "cell_type": "code",
      "execution_count": null,
      "metadata": {
        "id": "EGgoEmJ21fwn"
      },
      "outputs": [],
      "source": [
        "class BTnode():\n",
        "    def __init__(self,data,left=None,right=None):\n",
        "        self.data=data\n",
        "        self.left=left\n",
        "        self.right=right\n",
        "class BTree():\n",
        "    def __init__(self,root=None):\n",
        "         self.root=root\n",
        "    def inorder(self,root):\n",
        "        if root==None:\n",
        "            return\n",
        "        else:\n",
        "             self.inorder(root.left)\n",
        "             print(root.data)\n",
        "             self.inorder(root.right)\n",
        "    def postorder(self,root):\n",
        "         if root==None:\n",
        "             return\n",
        "         else:\n",
        "              self.postorder(root.left)\n",
        "              self.postorder(root.right)\n",
        "              print(root.data)"
      ]
    }
  ]
}